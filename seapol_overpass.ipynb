{
 "cells": [
  {
   "attachments": {},
   "cell_type": "markdown",
   "id": "43863f18",
   "metadata": {
    "tags": []
   },
   "source": [
    "### Notebook to plot PICCOLO SEAPOL overpass data.\n",
    "\n",
    "James Ruppert  \n",
    "jruppert@ou.edu  \n",
    "9/15/24"
   ]
  },
  {
   "cell_type": "markdown",
   "id": "d3a84805",
   "metadata": {},
   "source": [
    "### Main settings"
   ]
  },
  {
   "cell_type": "code",
   "execution_count": 222,
   "id": "85990f79",
   "metadata": {},
   "outputs": [],
   "source": [
    "import numpy as np\n",
    "import matplotlib.pyplot as plt\n",
    "from matplotlib import rc, colors, ticker\n",
    "import matplotlib.dates as mdates\n",
    "import subprocess\n",
    "import xarray as xr\n",
    "import cmocean"
   ]
  },
  {
   "cell_type": "code",
   "execution_count": 223,
   "id": "44f99212",
   "metadata": {},
   "outputs": [],
   "source": [
    "main = \"/Users/jamesruppert/code/PICCOLO/seapol/\"\n",
    "\n",
    "# Get file list\n",
    "def gridded_filelist():\n",
    "    process = subprocess.Popen(['ls --color=none '+main+'*/gridded/*nc'],shell=True,\n",
    "        stdout=subprocess.PIPE,universal_newlines=True)\n",
    "    files = process.stdout.readlines()\n",
    "    return files\n",
    "\n",
    "files = gridded_filelist()\n",
    "files\n",
    "file_read=files[-2]\n",
    "# print(file_read)\n",
    "# print(files)"
   ]
  },
  {
   "cell_type": "markdown",
   "id": "dfbea294",
   "metadata": {},
   "source": [
    "### Read scan"
   ]
  },
  {
   "cell_type": "code",
   "execution_count": 224,
   "id": "50309899",
   "metadata": {
    "tags": []
   },
   "outputs": [],
   "source": [
    "# Error handling function\n",
    "# \n",
    "# From Michael:\n",
    "#   FillValue = -32768 is where the radar did not scan\n",
    "#   missing_value = -9999 is where data has been removed by QC\n",
    "# \n",
    "def fill_missing(cfrad_dset, FillValue=-32768, missing_value=-9999):\n",
    "    index_fill = np.where(cfrad_dset['refl'] == FillValue)\n",
    "    cfrad_dset['refl'][index_fill] = np.nan\n",
    "    # index_fill = np.where(cfrad_dset['refl'] == missing_value)\n",
    "    # cfrad_dset['refl'][index_fill] = np.nan\n",
    "    return cfrad_dset\n",
    "\n",
    "# Main read function\n",
    "def read_cfrad(file):\n",
    "\n",
    "    cfrad_file = xr.open_dataset(file.rstrip('\\n'), engine=\"netcdf4\",\n",
    "                                 mask_and_scale=False) # Manually control fill/missing values\n",
    "    cf_timestamp = cfrad_file['time'].data[0]\n",
    "\n",
    "    ix = np.squeeze(cfrad_file['X'].data)*1e-3 # m --> km\n",
    "    dx = ix[1]-ix[0]\n",
    "    x2 = np.append(ix-0.5*dx,ix[-1]+0.5*dx)\n",
    "\n",
    "    ix = np.squeeze(cfrad_file['Y'].data)*1e-3 # m --> km\n",
    "    dx = ix[1]-ix[0]\n",
    "    x1 = np.append(ix-0.5*dx,ix[-1]+0.5*dx)\n",
    "\n",
    "    ix = np.squeeze(cfrad_file['Z'].data)*1e-3 # m --> km\n",
    "    z = ix\n",
    "\n",
    "    refl = np.squeeze(cfrad_file['DBZ'].data) # dBZ\n",
    "    FillValue = cfrad_file['DBZ']._FillValue # -32768 is where the radar did not scan\n",
    "    missing_value = cfrad_file['DBZ'].missing_value # -9999 is where data has been removed by QC\n",
    "\n",
    "    cfrad_file.close()\n",
    "\n",
    "    cfrad_dset = {\n",
    "        'cf_timestamp': cf_timestamp,\n",
    "        'x1': x1,\n",
    "        'x2': x2,\n",
    "        'z': z,\n",
    "        'refl': refl,\n",
    "        'flag_noscan': FillValue,\n",
    "        'flag_missing': missing_value\n",
    "    }\n",
    "    return fill_missing(cfrad_dset, FillValue=FillValue, missing_value=missing_value)\n",
    "    # return cfrad_dset"
   ]
  },
  {
   "cell_type": "markdown",
   "id": "bf79aaa7",
   "metadata": {},
   "source": [
    "### Echo-top height"
   ]
  },
  {
   "cell_type": "code",
   "execution_count": 225,
   "id": "45e4c6d5",
   "metadata": {},
   "outputs": [],
   "source": [
    "# Echo-top height\n",
    "def get_echo_top(cfrad_dset, dbz_threshold=15):\n",
    "    dims=cfrad_dset['refl'].shape[1:]\n",
    "    echo_top=np.full(dims, np.nan)\n",
    "    for ix1 in range(dims[0]):\n",
    "        for ix2 in range(dims[1]):\n",
    "    # for ix1 in range(50):\n",
    "        # for ix2 in range(50):\n",
    "            ind_finite = np.where(np.isfinite(cfrad_dset['refl'][:,ix1,ix2]))[0]\n",
    "            if ind_finite.size == 0:\n",
    "                continue\n",
    "            ind_meets_thresh = np.where(cfrad_dset['refl'][:,ix1,ix2] > dbz_threshold)[0]\n",
    "            if ind_meets_thresh.size == 0:\n",
    "                echo_top[ix1,ix2] = 0\n",
    "                continue\n",
    "            echo_top[ix1,ix2] = cfrad_dset['z'][np.max(ind_meets_thresh)]\n",
    "    return echo_top\n",
    "cfrad_dset = read_cfrad(files[6])\n",
    "echo_top = get_echo_top(cfrad_dset)"
   ]
  },
  {
   "cell_type": "code",
   "execution_count": 226,
   "id": "3f606103",
   "metadata": {},
   "outputs": [
    {
     "name": "stdout",
     "output_type": "stream",
     "text": [
      "47.163925\n",
      "-9999.0\n"
     ]
    }
   ],
   "source": [
    "print(np.nanmax(cfrad_dset['refl']))\n",
    "print(np.nanmin(cfrad_dset['refl']))"
   ]
  },
  {
   "cell_type": "code",
   "execution_count": 227,
   "id": "8a10e6de",
   "metadata": {},
   "outputs": [
    {
     "name": "stdout",
     "output_type": "stream",
     "text": [
      "11.000000953674316\n",
      "0.0\n"
     ]
    }
   ],
   "source": [
    "print(np.nanmax(echo_top))\n",
    "print(np.nanmin(echo_top))"
   ]
  },
  {
   "cell_type": "markdown",
   "id": "cabd401c",
   "metadata": {
    "tags": []
   },
   "source": [
    "---\n",
    "### Plotting routines"
   ]
  },
  {
   "cell_type": "markdown",
   "id": "9d4fe817",
   "metadata": {},
   "source": [
    "#### Plot functions"
   ]
  },
  {
   "cell_type": "code",
   "execution_count": 228,
   "id": "88803959",
   "metadata": {},
   "outputs": [],
   "source": [
    "font = {'family' : 'sans-serif',\n",
    "        'weight' : 'normal',\n",
    "        'size'   : 12}\n",
    "\n",
    "rc('font', **font)\n",
    "\n",
    "# sns.set_theme(style=\"darkgrid\", rc={'xtick.bottom': True, 'ytick.left': True,})\n",
    "figdir = \"/Volumes/wiss/M203/SEA-POL/figures/\""
   ]
  },
  {
   "cell_type": "code",
   "execution_count": 323,
   "id": "1e0f849d",
   "metadata": {},
   "outputs": [],
   "source": [
    "def plot_ppi(figdata, zlev=0):\n",
    "\n",
    "    fig_x = 5\n",
    "    fig_y = 5\n",
    "    fig, ax = plt.subplots(figsize=(fig_x,fig_y), layout=\"constrained\", ) # row, column\n",
    "\n",
    "    ax.set_title(figdata['date_str']+', '+str(np.round(figdata['z'][zlev],1))+' km')\n",
    "\n",
    "    # ax.set_ylim(0,top)\n",
    "    # ax.set_xlim(figdata['xlim'])\n",
    "    ax.set_xlim((figdata['x2'][0],figdata['x2'][-1]))\n",
    "    ax.set_ylim((figdata['x1'][0],figdata['x1'][-1]))\n",
    "    ax.set_xlabel('Distance [km]')\n",
    "    ax.set_ylabel('Distance [km]')\n",
    "\n",
    "    ax.set_aspect('equal', 'box')\n",
    "\n",
    "    ax.grid(True, axis='x', color='0.55', linewidth=0.5, zorder=4)\n",
    "    ax.grid(True, axis='y', color='0.55', linewidth=0.5, zorder=4)#, which='both')\n",
    "\n",
    "    pltvar = figdata['refl'][zlev]\n",
    "\n",
    "    # Plot valid data area\n",
    "    valid = np.copy(pltvar)\n",
    "    valid[np.where(np.isfinite(pltvar))] = 1\n",
    "    norm=colors.Normalize(0.7,2)\n",
    "    im = ax.pcolormesh(figdata['x1'], figdata['x2'], valid, cmap='Grays', norm=norm)\n",
    "\n",
    "    # Mask out where dBZ < -5\n",
    "    pltvar = np.ma.masked_where(pltvar < -5, pltvar)\n",
    "\n",
    "    radarcbar = ['PeachPuff', 'Aqua', 'DodgerBlue', 'MediumBlue', 'Lime', \\\n",
    "                'LimeGreen', 'Green', 'Yellow', 'Orange', 'OrangeRed', \\\n",
    "                'Red', 'Crimson', 'Fuchsia', 'Indigo', 'DarkCyan', 'White']\n",
    "    levels = np.arange(-5, 75, 5)\n",
    "    # im = ax.contourf(figdata['x1'][:-1], figdata['x2'][:-1], pltvar, colors=radarcbar, levels=levels)\n",
    "\n",
    "    norm=colors.Normalize(-5, 75, clip=False)\n",
    "    im = ax.pcolormesh(figdata['x1'], figdata['x2'], pltvar, cmap=cmocean.cm.balance, norm=norm, shading='flat')\n",
    "    # clevels=np.linspace(-5,75,num=20)\n",
    "    # im = ax.contourf(figdata['x1'][:-1], figdata['x2'][:-1], pltvar, clevels,\n",
    "    #                        extend='neither', cmap=cmocean.cm.balance, zorder=1)#, norm=figdata['norm'])\n",
    "    fig.colorbar(im, ax=ax, label='dBZ', ticks=ticker.AutoLocator(), shrink=0.5)\n",
    "\n",
    "    date_tag = figdata['date_str'][0:4]+figdata['date_str'][5:7]+figdata['date_str'][8:10]+\\\n",
    "        '_'+figdata['date_str'][11:13]+figdata['date_str'][14:16]\n",
    "    plt.savefig(figdir+'cappi_ppi_'+date_tag+'.png',dpi=200, facecolor='white', \\\n",
    "            bbox_inches='tight', pad_inches=0.2)\n",
    "    plt.show()\n",
    "    plt.close()\n",
    "    return"
   ]
  },
  {
   "cell_type": "code",
   "execution_count": 321,
   "id": "b2804663",
   "metadata": {},
   "outputs": [],
   "source": [
    "def plot_echotop(figdata):\n",
    "\n",
    "    fig_x = 5\n",
    "    fig_y = 5\n",
    "    fig, ax = plt.subplots(figsize=(fig_x,fig_y), layout=\"constrained\", ) # row, column\n",
    "\n",
    "    ax.set_title(figdata['date_str'])\n",
    "\n",
    "    # ax.set_ylim(0,top)\n",
    "    # ax.set_xlim(figdata['xlim'])\n",
    "    ax.set_xlim((figdata['x2'][0],figdata['x2'][-1]))\n",
    "    ax.set_ylim((figdata['x1'][0],figdata['x1'][-1]))\n",
    "    ax.set_xlabel('Distance [km]')\n",
    "    ax.set_ylabel('Distance [km]')\n",
    "\n",
    "    ax.set_aspect('equal', 'box')\n",
    "\n",
    "    ax.grid(True, axis='x', color='0.55', linewidth=0.5, zorder=4)\n",
    "    ax.grid(True, axis='y', color='0.55', linewidth=0.5, zorder=4)#, which='both')\n",
    "\n",
    "    pltvar = figdata['pltvar']\n",
    "\n",
    "    norm=colors.Normalize(0,15, clip=False)\n",
    "    im = ax.pcolormesh(figdata['x1'], figdata['x2'], pltvar, cmap=cmocean.cm.rain, norm=norm)\n",
    "    # clevels=np.linspace(0,18,num=20)\n",
    "    # im = ax.contourf(figdata['x1'][:-1], figdata['x2'][:-1], pltvar, clevels,\n",
    "    #                        extend='neither', cmap=cmocean.cm.curl, zorder=1)#, norm=figdata['norm'])\n",
    "    fig.colorbar(im, ax=ax, label='km', ticks=ticker.AutoLocator(), shrink=0.6)\n",
    "\n",
    "    date_tag = figdata['date_str'][0:4]+figdata['date_str'][5:7]+figdata['date_str'][8:10]+\\\n",
    "        '_'+figdata['date_str'][11:13]+figdata['date_str'][14:16]\n",
    "    plt.savefig(figdir+'cappi_echotop_'+date_tag+'.png',dpi=200, facecolor='white', \\\n",
    "            bbox_inches='tight', pad_inches=0.2)\n",
    "    plt.show()\n",
    "    plt.close()\n",
    "    return"
   ]
  },
  {
   "cell_type": "markdown",
   "id": "a6822046",
   "metadata": {},
   "source": [
    "#### Plots"
   ]
  },
  {
   "cell_type": "code",
   "execution_count": 324,
   "id": "6c52a945",
   "metadata": {},
   "outputs": [
    {
     "data": {
      "image/png": "[encoded data removed]",
      "text/plain": [
       "<Figure size 500x500 with 2 Axes>"
      ]
     },
     "metadata": {},
     "output_type": "display_data"
    },
    {
     "data": {
      "image/png": "[encoded data removed]",
      "text/plain": [
       "<Figure size 500x500 with 2 Axes>"
      ]
     },
     "metadata": {},
     "output_type": "display_data"
    }
   ],
   "source": [
    "# for ifile in files:\n",
    "for ifile in files[0:1]:\n",
    "    cfrad_dset = read_cfrad(ifile)\n",
    "\n",
    "    # PPIs\n",
    "\n",
    "    figdata = {\n",
    "        'x1': cfrad_dset['x1'],\n",
    "        'x2': cfrad_dset['x2'],\n",
    "        'z': cfrad_dset['z'],\n",
    "        'refl': cfrad_dset['refl'],\n",
    "        'date_str': np.datetime_as_string(cfrad_dset['cf_timestamp'], 'm'),\n",
    "        # 'xlim': xlim,\n",
    "            }\n",
    "\n",
    "    nz = cfrad_dset['z'].size\n",
    "    # for ilev in range(nz):\n",
    "    # for ilev in range(3):\n",
    "    plot_ppi(figdata, zlev=0)\n",
    "\n",
    "\n",
    "    # Echo-top\n",
    "\n",
    "    echo_top = get_echo_top(cfrad_dset)\n",
    "\n",
    "    figdata = {\n",
    "        'x1': cfrad_dset['x1'],\n",
    "        'x2': cfrad_dset['x2'],\n",
    "        'z': cfrad_dset['z'],\n",
    "        'pltvar': echo_top,\n",
    "        'date_str': np.datetime_as_string(cfrad_dset['cf_timestamp'], 'm'),\n",
    "        # 'xlim': xlim,\n",
    "            }\n",
    "\n",
    "    plot_echotop(figdata)"
   ]
  }
 ],
 "metadata": {
  "kernelspec": {
   "display_name": "Python 3.9.12 ('plotting')",
   "language": "python",
   "name": "python3"
  },
  "language_info": {
   "codemirror_mode": {
    "name": "ipython",
    "version": 3
   },
   "file_extension": ".py",
   "mimetype": "text/x-python",
   "name": "python",
   "nbconvert_exporter": "python",
   "pygments_lexer": "ipython3",
   "version": "3.12.5"
  },
  "vscode": {
   "interpreter": {
    "hash": "ba66c6fa676980db47fde7e4bec9b37760d72b0a5b2c3cc0f1f376041f14579d"
   }
  }
 },
 "nbformat": 4,
 "nbformat_minor": 5
}
